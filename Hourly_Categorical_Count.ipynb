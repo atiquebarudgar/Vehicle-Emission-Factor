{
 "cells": [
  {
   "cell_type": "code",
   "execution_count": 1,
   "id": "2b5d7180",
   "metadata": {},
   "outputs": [],
   "source": [
    "import pandas as pd\n",
    "import numpy as np"
   ]
  },
  {
   "cell_type": "markdown",
   "id": "486cf08f",
   "metadata": {},
   "source": [
    "###  Uploading Dataset"
   ]
  },
  {
   "cell_type": "code",
   "execution_count": 2,
   "id": "57133480",
   "metadata": {},
   "outputs": [],
   "source": [
    "Data=pd.read_excel('Dummy_VehCharac_Count.xlsx',na_values=['NaN','Not Available ','NA'])"
   ]
  },
  {
   "cell_type": "markdown",
   "id": "d2cb7278",
   "metadata": {},
   "source": [
    "### Identifying Hours"
   ]
  },
  {
   "cell_type": "code",
   "execution_count": 3,
   "id": "c37ac3af",
   "metadata": {},
   "outputs": [
    {
     "name": "stdout",
     "output_type": "stream",
     "text": [
      "[6, 7, 8, 9, 12, 13, 14, 15, 16]\n"
     ]
    }
   ],
   "source": [
    "Data['TimeDate'] = pd.to_datetime(Data['Time'],format='%H:%M:%S')\n",
    "Data['hour']=Data['TimeDate'].dt.hour\n",
    "\n",
    "each_hour_data=Data.groupby(['hour'])\n",
    "hours_no=list(each_hour_data.groups)  # Listing available hour. \n",
    "print(hours_no)"
   ]
  },
  {
   "cell_type": "markdown",
   "id": "f1c708c9",
   "metadata": {},
   "source": [
    "### Extracting each hour dataset"
   ]
  },
  {
   "cell_type": "code",
   "execution_count": 4,
   "id": "91547d7a",
   "metadata": {},
   "outputs": [
    {
     "name": "stderr",
     "output_type": "stream",
     "text": [
      "C:\\Users\\LENOVO\\AppData\\Local\\Temp/ipykernel_4396/2565107101.py:2: FutureWarning: Indexing with multiple keys (implicitly converted to a tuple of keys) will be deprecated, use a list instead.\n",
      "  globals()[f'H_{i}']=Data.groupby(['hour'])['Time','Vehicle','Age','CC','Fuel','BS'].get_group(i) # saving 6th hour dataset as H_6 similarly.\n"
     ]
    }
   ],
   "source": [
    "for i in hours_no:\n",
    "    globals()[f'H_{i}']=Data.groupby(['hour'])['Time','Vehicle','Age','CC','Fuel','BS'].get_group(i) # saving 6th hour dataset as H_6 similarly."
   ]
  },
  {
   "cell_type": "markdown",
   "id": "f2c1dd01",
   "metadata": {},
   "source": [
    "### Counting each feature of each hour dataset"
   ]
  },
  {
   "cell_type": "code",
   "execution_count": 5,
   "id": "cad94cbf",
   "metadata": {},
   "outputs": [],
   "source": [
    "hours_data=[H_6,H_7,H_8,H_9,H_12,H_13,H_14,H_15,H_16] # Available hourly datasets.\n",
    "p=0;\n",
    "for i in hours_data: # Iterating over available hourly datasets\n",
    "    hour=hours_no[p] # taking each hour\n",
    "    \n",
    "    # To split Age and save its first[0th] column of integer as \"Age_Int\"\n",
    "    i[\"Age_Int\"] = i[\"Age\"].str.split(\" \", n = 1, expand = True)[0]\n",
    "    i['CC_Int']  = i[\"CC\"].str.split(\" \", n = 1, expand = True) [0]\n",
    "    \n",
    "    i[\"CC_Categories\"] = pd.cut(                         \n",
    "    x=i['CC_Int'].astype(float), # int not accepted\n",
    "    bins=[0,2000,5000,10000],    # Categorizing CC\n",
    "    labels=['<2k','2-5','>5k'])  # Labelling CC ctegories\n",
    "    i[\"Age_Categories\"] = pd.cut(                         \n",
    "    x=i['Age_Int'].astype(float),  # int not accepted\n",
    "    bins=[0,5,10,15,30],           # Categorizing Age\n",
    "    labels=['<5','5-10','10-15','>15']) # Labelling Age categories.\n",
    "    \n",
    "    df_VehicleType=(pd.DataFrame([i['Vehicle'].value_counts()]).T).rename(columns = {'Vehicle':'Count'})\n",
    "    df_Age=(pd.DataFrame([i['Age_Categories'].value_counts()]).T).rename(columns = {'Age_Categories':'Count'})\n",
    "    df_CC=(pd.DataFrame([i['CC_Categories'].value_counts()]).T).rename(columns = {'CC_Categories':'Count'})\n",
    "    df_Fuel=(pd.DataFrame([i['Fuel'].value_counts()]).T).rename(columns = {'Fuel':'Count'})\n",
    "    df_BS=(pd.DataFrame([i['BS'].value_counts()]).T).rename(columns = {'BS':'Count'})\n",
    "    # Renaming all features as 'Count' to bring under single column while concatenating in next step.\n",
    "    \n",
    "    df=[df_VehicleType,df_Age,df_CC,df_Fuel,df_BS] # Datasets of the features to be concatenated.\n",
    "    if (hour==6):\n",
    "        df_6=pd.concat(df, keys=[\"Vehicle\", \"Age\",\"CC\",\"Fuel\",\"BS\"], axis=0).rename(columns = {'Count':'Hour_6'}) # Keys are labels of features dataset to be concatenated\n",
    "    if (hour==7):\n",
    "        df_7=pd.concat(df, keys=[\"Vehicle\", \"Age\",\"CC\",\"Fuel\",\"BS\"], axis=0).rename(columns = {'Count':'Hour_7'})\n",
    "    if (hour==8):\n",
    "        df_8=pd.concat(df, keys=[\"Vehicle\", \"Age\",\"CC\",\"Fuel\",\"BS\"], axis=0).rename(columns = {'Count':'Hour_8'})\n",
    "    if (hour==9):\n",
    "        df_9=pd.concat(df, keys=[\"Vehicle\", \"Age\",\"CC\",\"Fuel\",\"BS\"], axis=0).rename(columns = {'Count':'Hour_9'})\n",
    "    if (hour==10):\n",
    "        df_10=pd.concat(df, keys=[\"Vehicle\", \"Age\",\"CC\",\"Fuel\",\"BS\"], axis=0).rename(columns = {'Count':'Hour_10'})\n",
    "    if (hour==11):\n",
    "        df_11=pd.concat(df, keys=[\"Vehicle\", \"Age\",\"CC\",\"Fuel\",\"BS\"], axis=0).rename(columns = {'Count':'Hour_11'})\n",
    "    if hour==12:\n",
    "        df_12=pd.concat(df, keys=[\"Vehicle\", \"Age\",\"CC\",\"Fuel\",\"BS\"], axis=0).rename(columns = {'Count':'Hour_12'})\n",
    "    if hour==13:\n",
    "        df_13=pd.concat(df, keys=[\"Vehicle\", \"Age\",\"CC\",\"Fuel\",\"BS\"], axis=0).rename(columns = {'Count':'Hour_13'})\n",
    "    if hour==14:\n",
    "        df_14=pd.concat(df, keys=[\"Vehicle\", \"Age\",\"CC\",\"Fuel\",\"BS\"], axis=0).rename(columns = {'Count':'Hour_14'})\n",
    "    if hour==15:\n",
    "        df_15=pd.concat(df, keys=[\"Vehicle\", \"Age\",\"CC\",\"Fuel\",\"BS\"], axis=0).rename(columns = {'Count':'Hour_15'})\n",
    "    if hour==16:\n",
    "        df_16=pd.concat(df, keys=[\"Vehicle\", \"Age\",\"CC\",\"Fuel\",\"BS\"], axis=0).rename(columns = {'Count':'Hour_16'})\n",
    "    p=p+1 # Moving to next hour"
   ]
  },
  {
   "cell_type": "markdown",
   "id": "cb84fb7a",
   "metadata": {},
   "source": [
    "### Combining each hour and saving into single sheet of excel"
   ]
  },
  {
   "cell_type": "code",
   "execution_count": 6,
   "id": "2fa699a0",
   "metadata": {},
   "outputs": [],
   "source": [
    "Final_df=(pd.concat([ df_6,df_7, df_8,df_9,df_12,df_13,df_14, df_15, df_16], axis=1))\n",
    "Final_df.to_excel('Hourly_Count.xlsx')"
   ]
  },
  {
   "cell_type": "code",
   "execution_count": null,
   "id": "11dfa960",
   "metadata": {},
   "outputs": [],
   "source": []
  }
 ],
 "metadata": {
  "kernelspec": {
   "display_name": "Python 3 (ipykernel)",
   "language": "python",
   "name": "python3"
  },
  "language_info": {
   "codemirror_mode": {
    "name": "ipython",
    "version": 3
   },
   "file_extension": ".py",
   "mimetype": "text/x-python",
   "name": "python",
   "nbconvert_exporter": "python",
   "pygments_lexer": "ipython3",
   "version": "3.9.7"
  },
  "varInspector": {
   "cols": {
    "lenName": 16,
    "lenType": 16,
    "lenVar": 40
   },
   "kernels_config": {
    "python": {
     "delete_cmd_postfix": "",
     "delete_cmd_prefix": "del ",
     "library": "var_list.py",
     "varRefreshCmd": "print(var_dic_list())"
    },
    "r": {
     "delete_cmd_postfix": ") ",
     "delete_cmd_prefix": "rm(",
     "library": "var_list.r",
     "varRefreshCmd": "cat(var_dic_list()) "
    }
   },
   "types_to_exclude": [
    "module",
    "function",
    "builtin_function_or_method",
    "instance",
    "_Feature"
   ],
   "window_display": false
  }
 },
 "nbformat": 4,
 "nbformat_minor": 5
}
