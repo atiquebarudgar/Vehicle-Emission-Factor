{
 "cells": [
  {
   "cell_type": "code",
   "execution_count": 1,
   "id": "adcc8a6f",
   "metadata": {},
   "outputs": [],
   "source": [
    "# Aim: To extract gas sensor data of 40 seconds corresponding to time of every vehicle and its characterstics and\n",
    "# store it according to vehicle type."
   ]
  },
  {
   "cell_type": "code",
   "execution_count": 2,
   "id": "85503665",
   "metadata": {},
   "outputs": [],
   "source": [
    "import pandas as pd\n",
    "import numpy as np\n",
    "import datetime\n",
    "import csv"
   ]
  },
  {
   "cell_type": "code",
   "execution_count": 3,
   "id": "249a074e",
   "metadata": {},
   "outputs": [],
   "source": [
    "Gas_Data=pd.read_excel('Dummy_GasSensor_Data.xlsx', sheet_name='Sensor_16',parse_dates=['DateTime'],usecols=[\"DateTime\",\"NO\",\"NO2\",\"CO\",\"CO2\",\"InTemp\",\"ExtTemp\"])\n",
    "\n",
    "Veh_Charac=pd.read_excel('Dummy_VehicularCharacteristic_Data.xlsx', sheet_name='Sheet1')"
   ]
  },
  {
   "cell_type": "code",
   "execution_count": 4,
   "id": "9126dd19",
   "metadata": {},
   "outputs": [],
   "source": [
    "Gas_Data[\"NOx\"]=Gas_Data[\"NO\"]+Gas_Data[\"NO2\"]"
   ]
  },
  {
   "cell_type": "code",
   "execution_count": 5,
   "id": "4d9bbffa",
   "metadata": {},
   "outputs": [],
   "source": [
    "Car=pd.DataFrame([])\n",
    "LCV=pd.DataFrame([])\n",
    "Truck=pd.DataFrame([])\n",
    "TwoWheeler=pd.DataFrame([])\n",
    "ThreeWheeler=pd.DataFrame([])\n",
    "Bus=pd.DataFrame([]) # xy=pd.DataFrame() gives empty in append\n",
    "for i in range(len(Veh_Charac)): # Iterating over vehicle charc. data file.\n",
    "    for m in range(0,23): # Hour\n",
    "        for j in range(0,59): # Minutes\n",
    "            for k in range(0,59): # Seconds\n",
    "                if(Veh_Charac['Time'][i] == datetime.time(m,j,k)): # Taking time of every vehicle paasing from vehicle charac. data file.\n",
    "                    for l in range(len(Gas_Data)): # Iterating over sensor data file.\n",
    "                        if (Gas_Data['DateTime'][l]==datetime.datetime(2022,5,8,m,j,k)): # Matching time of vehicle with sensor data time.\n",
    "                            xx=pd.DataFrame(Gas_Data[l-10:l+30]) # Taking 40 datapoints from 10 sec. before to 30 sec after.\n",
    "                            if(Veh_Charac['Vehicle'][i] == \"Car\"): # Checking vehicle category for the vehicle.\n",
    "                                df = pd.concat([xx,Veh_Charac[i:i+1]], ignore_index = True,axis=1) # Concating gas data and vehicle charac. data.\n",
    "                                Car=Car.append(df)\n",
    "                                break\n",
    "                            if(Veh_Charac['Vehicle'][i] == \"LCV\"):\n",
    "                                df = pd.concat([xx,Veh_Charac[i:i+1]], ignore_index = True,axis=1)# Concating gas data and vehicle charac. data.\n",
    "                                LCV=LCV.append(df)\n",
    "                                break\n",
    "                            if(Veh_Charac['Vehicle'][i] == \"Bus\"):\n",
    "                                df = pd.concat([xx,Veh_Charac[i:i+1]], ignore_index = True,axis=1)\n",
    "                                Bus=Bus.append(df)\n",
    "                                break\n",
    "                            if(Veh_Charac['Vehicle'][i] == \"Truck\"):\n",
    "                                df = pd.concat([xx,Veh_Charac[i:i+1]], ignore_index = True,axis=1)\n",
    "                                Truck=Truck.append(df)\n",
    "                                break\n",
    "                            if(Veh_Charac['Vehicle'][i] == \"2W\"):\n",
    "                                df = pd.concat([xx,Veh_Charac[i:i+1]], ignore_index = True,axis=1)\n",
    "                                TwoWheeler=TwoWheeler.append(df)\n",
    "                                break\n",
    "                            if(Veh_Charac['Vehicle'][i] == \"3W\"):\n",
    "                                df = pd.concat([xx,Veh_Charac[i:i+1]], ignore_index = True,axis=1)\n",
    "                                ThreeWheeler=ThreeWheeler.append(df)\n",
    "                                break\n",
    "                "
   ]
  },
  {
   "cell_type": "code",
   "execution_count": 6,
   "id": "38328377",
   "metadata": {},
   "outputs": [],
   "source": [
    "with pd.ExcelWriter('Segregated_VehicularType_GasData.xlsx') as writer1:\n",
    "    Bus.to_excel(writer1, sheet_name = 'Bus', index = True)\n",
    "    Car.to_excel(writer1, sheet_name = 'Car', index = True)\n",
    "    ThreeWheeler.to_excel(writer1, sheet_name = 'ThreeWheeler', index = True)\n",
    "    TwoWheeler.to_excel(writer1, sheet_name = 'TwoWheeler', index = True)\n",
    "    Truck.to_excel(writer1, sheet_name = 'Truck', index = True)\n",
    "    LCV.to_excel(writer1, sheet_name = 'LCV', index = True)"
   ]
  },
  {
   "cell_type": "code",
   "execution_count": null,
   "id": "e93ba8aa",
   "metadata": {},
   "outputs": [],
   "source": []
  },
  {
   "cell_type": "code",
   "execution_count": null,
   "id": "12863d0c",
   "metadata": {},
   "outputs": [],
   "source": []
  },
  {
   "cell_type": "code",
   "execution_count": null,
   "id": "7c576d13",
   "metadata": {},
   "outputs": [],
   "source": []
  }
 ],
 "metadata": {
  "kernelspec": {
   "display_name": "Python 3 (ipykernel)",
   "language": "python",
   "name": "python3"
  },
  "language_info": {
   "codemirror_mode": {
    "name": "ipython",
    "version": 3
   },
   "file_extension": ".py",
   "mimetype": "text/x-python",
   "name": "python",
   "nbconvert_exporter": "python",
   "pygments_lexer": "ipython3",
   "version": "3.9.7"
  },
  "varInspector": {
   "cols": {
    "lenName": 16,
    "lenType": 16,
    "lenVar": 40
   },
   "kernels_config": {
    "python": {
     "delete_cmd_postfix": "",
     "delete_cmd_prefix": "del ",
     "library": "var_list.py",
     "varRefreshCmd": "print(var_dic_list())"
    },
    "r": {
     "delete_cmd_postfix": ") ",
     "delete_cmd_prefix": "rm(",
     "library": "var_list.r",
     "varRefreshCmd": "cat(var_dic_list()) "
    }
   },
   "types_to_exclude": [
    "module",
    "function",
    "builtin_function_or_method",
    "instance",
    "_Feature"
   ],
   "window_display": false
  }
 },
 "nbformat": 4,
 "nbformat_minor": 5
}
