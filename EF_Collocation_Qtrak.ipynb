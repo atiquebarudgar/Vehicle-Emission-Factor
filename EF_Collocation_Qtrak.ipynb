{
 "cells": [
  {
   "cell_type": "code",
   "execution_count": 20,
   "id": "e6cf256e",
   "metadata": {},
   "outputs": [],
   "source": [
    "# Aim = To do collocation of sensors used in sampling with established or reference sensor (TSI- Qtrak)\n",
    "# We will do correlation, scatter plot, slope and intercept between sensors and reference senosor datapoints."
   ]
  },
  {
   "cell_type": "code",
   "execution_count": 21,
   "id": "04769d01",
   "metadata": {},
   "outputs": [],
   "source": [
    "import pandas as pd\n",
    "\n",
    "import numpy as np\n",
    "import matplotlib as plt\n",
    "import seaborn as sns\n",
    "from scipy import stats"
   ]
  },
  {
   "cell_type": "code",
   "execution_count": 22,
   "id": "610b692e",
   "metadata": {},
   "outputs": [],
   "source": [
    "# Data loading of Established or reference sensors.\n",
    "Qtrak_data=pd.read_excel('Dummy_Qtrak_Data.xlsx',sheet_name='Data',parse_dates=['Time'],skiprows=[1]) # Reference established sensor"
   ]
  },
  {
   "cell_type": "code",
   "execution_count": 23,
   "id": "fa373011",
   "metadata": {},
   "outputs": [],
   "source": [
    "# Data loading of sensors used in sampling.\n",
    "Gas_Sensor1=pd.read_excel('Dummy_GasSensor_Data.xlsx', usecols=['DateTime','NO','NO2','CO','CO2'],parse_dates=['DateTime'],sheet_name='Sensor_16') # Actual sensor used in sampling\n",
    "Gas_Sensor2=pd.read_excel('Dummy_GasSensor_Data.xlsx',usecols=['DateTime','NO','NO2','CO','CO2'],parse_dates=['DateTime'],sheet_name='Sensor_18') # Actual sensor used in sampling"
   ]
  },
  {
   "cell_type": "code",
   "execution_count": 24,
   "id": "f22e0e8e",
   "metadata": {},
   "outputs": [],
   "source": [
    "# Extracting minute, hour details from time of each sensor data.\n",
    "Qtrak_data['minute'] = Qtrak_data['Time'].dt.minute \n",
    "Qtrak_data['hour']=Qtrak_data['Time'].dt.hour\n",
    "\n",
    "Gas_Sensor1['minute'] = Gas_Sensor1['DateTime'].dt.minute\n",
    "Gas_Sensor1['hour']=Gas_Sensor1['DateTime'].dt.hour\n",
    "\n",
    "Gas_Sensor2['minute'] = Gas_Sensor2['DateTime'].dt.minute\n",
    "Gas_Sensor2['hour']=Gas_Sensor2['DateTime'].dt.hour"
   ]
  },
  {
   "cell_type": "code",
   "execution_count": 25,
   "id": "895c9510",
   "metadata": {},
   "outputs": [],
   "source": [
    "# Calculating mean of every minute of each hour for each sensor.\n",
    "df_Qtrak_CO2=Qtrak_data.groupby(['hour','minute'])['CO2'].mean()\n",
    "df_Qtrak_CO=Qtrak_data.groupby(['hour','minute'])['CO'].mean()\n",
    "\n",
    "df_GasSensor1_CO2=Gas_Sensor1.groupby(['hour','minute'])['CO2'].mean()\n",
    "df_GasSensor1_CO=Gas_Sensor1.groupby(['hour','minute'])['CO'].mean()\n",
    "\n",
    "df_GasSensor2_CO2=Gas_Sensor2.groupby(['hour','minute'])['CO2'].mean()\n",
    "df_GasSensor2_CO=Gas_Sensor2.groupby(['hour','minute'])['CO'].mean()"
   ]
  },
  {
   "cell_type": "code",
   "execution_count": 26,
   "id": "043f42fb",
   "metadata": {},
   "outputs": [],
   "source": [
    "# Concating common time datapoints in one dataframe.\n",
    "df_CO2_1=pd.concat([df_Qtrak_CO2,df_GasSensor1_CO2], axis=1) # with sensor 1 for CO2 \n",
    "df_CO_1=pd.concat([df_Qtrak_CO,df_GasSensor1_CO], axis=1) # with sensor 1 for CO\n",
    "df_CO2_1.columns=['CO2_Qtrak','CO2_Sensor1']\n",
    "df_CO_1.columns=['CO_Qtrak','CO_Sensor1']\n",
    "\n",
    "df_CO2_2=pd.concat([df_Qtrak_CO2,df_GasSensor2_CO2], axis=1) # with sensor 2 for CO2\n",
    "df_CO_2=pd.concat([df_Qtrak_CO,df_GasSensor2_CO], axis=1) # with sensor 2 for CO\n",
    "df_CO_2.columns=['CO_Qtrak','CO_Sensor2']\n",
    "df_CO2_2.columns=['CO2_Qtrak','CO2_Sensor2']"
   ]
  },
  {
   "cell_type": "code",
   "execution_count": 28,
   "id": "a3c4f953",
   "metadata": {},
   "outputs": [
    {
     "name": "stdout",
     "output_type": "stream",
     "text": [
      "Correlation of Sensor 1 for CO2 is : 0.454\n",
      "Correlation of Sensor 2 for CO2 is : 0.518\n"
     ]
    }
   ],
   "source": [
    "corr=df_CO2_1['CO2_Qtrak'].corr(df_CO2_1['CO2_Sensor1']) # sensor 1 for CO2 pollutant\n",
    "corr2=df_CO2_2['CO2_Qtrak'].corr(df_CO2_2['CO2_Sensor2']) # sensor 2 for CO2 pollutant\n",
    "print('Correlation of Sensor 1 for CO2 is : %.3f' % corr)\n",
    "print('Correlation of Sensor 2 for CO2 is : %.3f' % corr2)"
   ]
  },
  {
   "cell_type": "code",
   "execution_count": 29,
   "id": "e0e939b5",
   "metadata": {},
   "outputs": [],
   "source": [
    "slope, intercept, r_value = stats.linregress(df_CO2_1['CO2_Qtrak'],df_CO2_1['CO2_Sensor1'])[0:3]"
   ]
  },
  {
   "cell_type": "code",
   "execution_count": 30,
   "id": "07922e44",
   "metadata": {
    "scrolled": false
   },
   "outputs": [
    {
     "data": {
      "text/plain": [
       "<AxesSubplot:xlabel='CO2_Qtrak', ylabel='CO2_Sensor1'>"
      ]
     },
     "execution_count": 30,
     "metadata": {},
     "output_type": "execute_result"
    },
    {
     "data": {
      "image/png": "[encoded data removed]",
      "text/plain": [
       "<Figure size 432x288 with 1 Axes>"
      ]
     },
     "metadata": {
      "needs_background": "light"
     },
     "output_type": "display_data"
    }
   ],
   "source": [
    "sns.regplot(x='CO2_Qtrak', y='CO2_Sensor1',data=df_CO2_1,)"
   ]
  },
  {
   "cell_type": "code",
   "execution_count": null,
   "id": "8b3e2ab4",
   "metadata": {},
   "outputs": [],
   "source": []
  },
  {
   "cell_type": "code",
   "execution_count": null,
   "id": "f0898a85",
   "metadata": {},
   "outputs": [],
   "source": []
  },
  {
   "cell_type": "code",
   "execution_count": null,
   "id": "0cc5c84e",
   "metadata": {},
   "outputs": [],
   "source": []
  },
  {
   "cell_type": "code",
   "execution_count": null,
   "id": "9a599d35",
   "metadata": {},
   "outputs": [],
   "source": []
  }
 ],
 "metadata": {
  "kernelspec": {
   "display_name": "Python 3 (ipykernel)",
   "language": "python",
   "name": "python3"
  },
  "language_info": {
   "codemirror_mode": {
    "name": "ipython",
    "version": 3
   },
   "file_extension": ".py",
   "mimetype": "text/x-python",
   "name": "python",
   "nbconvert_exporter": "python",
   "pygments_lexer": "ipython3",
   "version": "3.9.7"
  },
  "varInspector": {
   "cols": {
    "lenName": 16,
    "lenType": 16,
    "lenVar": 40
   },
   "kernels_config": {
    "python": {
     "delete_cmd_postfix": "",
     "delete_cmd_prefix": "del ",
     "library": "var_list.py",
     "varRefreshCmd": "print(var_dic_list())"
    },
    "r": {
     "delete_cmd_postfix": ") ",
     "delete_cmd_prefix": "rm(",
     "library": "var_list.r",
     "varRefreshCmd": "cat(var_dic_list()) "
    }
   },
   "types_to_exclude": [
    "module",
    "function",
    "builtin_function_or_method",
    "instance",
    "_Feature"
   ],
   "window_display": false
  }
 },
 "nbformat": 4,
 "nbformat_minor": 5
}
