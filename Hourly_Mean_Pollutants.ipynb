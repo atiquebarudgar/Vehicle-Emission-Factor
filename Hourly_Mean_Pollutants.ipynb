{
 "cells": [
  {
   "cell_type": "code",
   "execution_count": 1,
   "id": "a3e614d6",
   "metadata": {},
   "outputs": [],
   "source": [
    "import pandas as pd\n",
    "from scipy import stats\n",
    "import numpy as np"
   ]
  },
  {
   "cell_type": "markdown",
   "id": "8aaab2dd",
   "metadata": {},
   "source": [
    "### Data Upload"
   ]
  },
  {
   "cell_type": "code",
   "execution_count": 2,
   "id": "a96059ce",
   "metadata": {},
   "outputs": [],
   "source": [
    "# R1_19, L1_18 and R2_16 are gas sensors; Atmos2, Atmos3 and Atmos6 are particulate matter(PM) sensors.\n",
    "R1_19=pd.read_excel('May04_Day02_SMShetty_HSSSensor_Rawdata.xlsx',sheet_name='R1_19',usecols= ['DateTime','NO','NO2','CO','CO2','ExtTemp'],na_values=['NaN'])\n",
    "L1_18=pd.read_excel('May04_Day02_SMShetty_HSSSensor_Rawdata.xlsx',sheet_name='L1_18',usecols= ['DateTime','NO','NO2','CO','CO2','ExtTemp'],na_values=['NaN'])\n",
    "R2_16=pd.read_excel('May04_Day02_SMShetty_HSSSensor_Rawdata.xlsx', sheet_name='R2_16',usecols= ['DateTime','NO','NO2','CO','CO2','ExtTemp'],na_values=['NaN'])\n",
    "\n",
    "Atmos2=pd.read_excel('Atmos2_API_SD_May04_FreqMinute.xlsx',na_values=['NaN'])\n",
    "Atmos3=pd.read_excel('Atmos3_API_May04_Freq05Second.xlsx',na_values=['NaN'])\n",
    "Atmos6=pd.read_excel('Atmos6_API_SD_May04_Freq05seconds.xlsx',na_values=['NaN'])\n",
    "\n",
    "R1_19['NOx']=R1_19['NO']+R1_19['NO2']\n",
    "L1_18['NOx']=L1_18['NO']+L1_18['NO2']\n",
    "R2_16['NOx']=R2_16['NO']+R2_16['NO2']"
   ]
  },
  {
   "cell_type": "markdown",
   "id": "4f7bc192",
   "metadata": {},
   "source": [
    "### Defining Time"
   ]
  },
  {
   "cell_type": "code",
   "execution_count": 3,
   "id": "c992a504",
   "metadata": {},
   "outputs": [],
   "source": [
    "Gas_sensors=[R1_19,L1_18,R2_16]\n",
    "PM_sensors=[Atmos2,Atmos3,Atmos6]\n",
    "for i in Gas_sensors:\n",
    "    i['TimeDate'] = pd.to_datetime(i['DateTime'])\n",
    "    i['hour']=i['TimeDate'].dt.hour\n",
    "    i['day']=i['TimeDate'].dt.day\n",
    "    \n",
    "for i in PM_sensors:\n",
    "    i['TimeDate'] = pd.to_datetime(i['dt_time'])\n",
    "    i['hour']=i['TimeDate'].dt.hour\n",
    "    i['day']=i['TimeDate'].dt.day"
   ]
  },
  {
   "cell_type": "markdown",
   "id": "8e45b43d",
   "metadata": {},
   "source": [
    "### Hourly Mean"
   ]
  },
  {
   "cell_type": "code",
   "execution_count": 4,
   "id": "af2be22c",
   "metadata": {},
   "outputs": [
    {
     "name": "stderr",
     "output_type": "stream",
     "text": [
      "C:\\Users\\LENOVO\\AppData\\Local\\Temp/ipykernel_9024/327505495.py:1: FutureWarning: Indexing with multiple keys (implicitly converted to a tuple of keys) will be deprecated, use a list instead.\n",
      "  hourly_mean_R1_19=R1_19.groupby(['hour'])['CO','NOx','CO2'].mean()\n",
      "C:\\Users\\LENOVO\\AppData\\Local\\Temp/ipykernel_9024/327505495.py:2: FutureWarning: Indexing with multiple keys (implicitly converted to a tuple of keys) will be deprecated, use a list instead.\n",
      "  hourly_mean_R2_16=R2_16.groupby(['hour'])['CO','NOx','CO2'].mean()\n",
      "C:\\Users\\LENOVO\\AppData\\Local\\Temp/ipykernel_9024/327505495.py:3: FutureWarning: Indexing with multiple keys (implicitly converted to a tuple of keys) will be deprecated, use a list instead.\n",
      "  hourly_mean_L1_18=L1_18.groupby(['hour'])['CO','NOx','CO2'].mean()\n",
      "C:\\Users\\LENOVO\\AppData\\Local\\Temp/ipykernel_9024/327505495.py:4: FutureWarning: Indexing with multiple keys (implicitly converted to a tuple of keys) will be deprecated, use a list instead.\n",
      "  hourly_mean_Atmos2=Atmos2.groupby(['hour'])['pm25raw','pm1cnc','pm10cnc'].mean()\n",
      "C:\\Users\\LENOVO\\AppData\\Local\\Temp/ipykernel_9024/327505495.py:5: FutureWarning: Indexing with multiple keys (implicitly converted to a tuple of keys) will be deprecated, use a list instead.\n",
      "  hourly_mean_Atmos3=Atmos3.groupby(['hour'])['pm25raw','pm1cnc','pm10cnc'].mean()\n",
      "C:\\Users\\LENOVO\\AppData\\Local\\Temp/ipykernel_9024/327505495.py:6: FutureWarning: Indexing with multiple keys (implicitly converted to a tuple of keys) will be deprecated, use a list instead.\n",
      "  hourly_mean_Atmos6=Atmos6.groupby(['hour'])['pm25raw','pm1cnc','pm10cnc'].mean()\n"
     ]
    }
   ],
   "source": [
    "hourly_mean_R1_19=R1_19.groupby(['hour'])['CO','NOx','CO2'].mean()\n",
    "hourly_mean_R2_16=R2_16.groupby(['hour'])['CO','NOx','CO2'].mean()\n",
    "hourly_mean_L1_18=L1_18.groupby(['hour'])['CO','NOx','CO2'].mean()\n",
    "hourly_mean_Atmos2=Atmos2.groupby(['hour'])['pm25raw','pm1cnc','pm10cnc'].mean()\n",
    "hourly_mean_Atmos3=Atmos3.groupby(['hour'])['pm25raw','pm1cnc','pm10cnc'].mean()\n",
    "hourly_mean_Atmos6=Atmos6.groupby(['hour'])['pm25raw','pm1cnc','pm10cnc'].mean()"
   ]
  },
  {
   "cell_type": "markdown",
   "id": "59ef4a23",
   "metadata": {},
   "source": [
    "### Mean of All sensors"
   ]
  },
  {
   "cell_type": "code",
   "execution_count": 5,
   "id": "4bc12d6c",
   "metadata": {},
   "outputs": [],
   "source": [
    "### Gases##\n",
    "df_CO = pd.concat((hourly_mean_R1_19['CO'], hourly_mean_R2_16['CO'],hourly_mean_L1_18['CO']), axis=1) # Concating hourly mean CO from all sensors\n",
    "df_NOx = pd.concat((hourly_mean_R1_19['NOx'], hourly_mean_R2_16['NOx'],hourly_mean_L1_18['NOx']), axis=1)# Concating hourly mean NOx from all sensors\n",
    "df_CO2 = pd.concat((hourly_mean_R1_19['CO2'], hourly_mean_R2_16['CO2'],hourly_mean_L1_18['CO2']), axis=1)# Concating hourly mean CO2 from all sensors\n",
    "\n",
    "CO_mean=df_CO.mean(axis=1) # Hourly_Mean of each hourly_mean from all sensors.\n",
    "NOx_mean=df_NOx.mean(axis=1)\n",
    "CO2_mean=df_CO2.mean(axis=1)\n",
    "\n",
    "### PM ###\n",
    "df_PM25 = pd.concat((hourly_mean_Atmos2['pm25raw'], hourly_mean_Atmos3['pm25raw'],hourly_mean_Atmos6['pm25raw']), axis=1)# Concating hourly mean PM2.5 from all sensors\n",
    "df_PM1 = pd.concat((hourly_mean_Atmos2['pm1cnc'], hourly_mean_Atmos3['pm1cnc'],hourly_mean_Atmos6['pm1cnc']), axis=1)\n",
    "df_PM10 = pd.concat((hourly_mean_Atmos2['pm10cnc'], hourly_mean_Atmos3['pm10cnc'],hourly_mean_Atmos6['pm10cnc']), axis=1)\n",
    "\n",
    "PM25_mean=df_PM25.mean(axis=1)\n",
    "PM1_mean=df_PM1.mean(axis=1)\n",
    "PM10_mean=df_PM10.mean(axis=1)"
   ]
  },
  {
   "cell_type": "markdown",
   "id": "f194e479",
   "metadata": {},
   "source": [
    "### Saving into single excel file"
   ]
  },
  {
   "cell_type": "code",
   "execution_count": 6,
   "id": "8dd1f475",
   "metadata": {},
   "outputs": [],
   "source": [
    "with pd.ExcelWriter('May04_Hourly_mean_Allsensors_ideal.xlsx') as writer1:\n",
    "    CO_mean.to_excel(writer1, sheet_name = 'CO', index = True)\n",
    "    NOx_mean.to_excel(writer1, sheet_name = 'NOx', index = True)\n",
    "    CO2_mean.to_excel(writer1, sheet_name = 'CO2', index = True)\n",
    "    PM25_mean.to_excel(writer1, sheet_name = 'PM2.5', index = True)\n",
    "    PM1_mean.to_excel(writer1, sheet_name = 'PM1', index = True)\n",
    "    PM10_mean.to_excel(writer1, sheet_name = 'PM10', index = True)"
   ]
  },
  {
   "cell_type": "code",
   "execution_count": null,
   "id": "2e9a6cc2",
   "metadata": {},
   "outputs": [],
   "source": []
  },
  {
   "cell_type": "code",
   "execution_count": null,
   "id": "c458ccb5",
   "metadata": {},
   "outputs": [],
   "source": []
  },
  {
   "cell_type": "code",
   "execution_count": null,
   "id": "9358a749",
   "metadata": {},
   "outputs": [],
   "source": []
  },
  {
   "cell_type": "code",
   "execution_count": null,
   "id": "ff25e77f",
   "metadata": {},
   "outputs": [],
   "source": []
  },
  {
   "cell_type": "code",
   "execution_count": null,
   "id": "85d363a0",
   "metadata": {},
   "outputs": [],
   "source": []
  }
 ],
 "metadata": {
  "kernelspec": {
   "display_name": "Python 3 (ipykernel)",
   "language": "python",
   "name": "python3"
  },
  "language_info": {
   "codemirror_mode": {
    "name": "ipython",
    "version": 3
   },
   "file_extension": ".py",
   "mimetype": "text/x-python",
   "name": "python",
   "nbconvert_exporter": "python",
   "pygments_lexer": "ipython3",
   "version": "3.9.7"
  },
  "varInspector": {
   "cols": {
    "lenName": 16,
    "lenType": 16,
    "lenVar": 40
   },
   "kernels_config": {
    "python": {
     "delete_cmd_postfix": "",
     "delete_cmd_prefix": "del ",
     "library": "var_list.py",
     "varRefreshCmd": "print(var_dic_list())"
    },
    "r": {
     "delete_cmd_postfix": ") ",
     "delete_cmd_prefix": "rm(",
     "library": "var_list.r",
     "varRefreshCmd": "cat(var_dic_list()) "
    }
   },
   "types_to_exclude": [
    "module",
    "function",
    "builtin_function_or_method",
    "instance",
    "_Feature"
   ],
   "window_display": false
  }
 },
 "nbformat": 4,
 "nbformat_minor": 5
}
