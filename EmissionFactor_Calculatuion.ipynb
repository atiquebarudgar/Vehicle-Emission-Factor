{
 "cells": [
  {
   "cell_type": "code",
   "execution_count": 1,
   "id": "a773e78e",
   "metadata": {},
   "outputs": [],
   "source": [
    "#### Aim: To calculate background concentrations of CO2 and PM and to estimate Emission factor by Carbon Balance method.\n",
    "## EF = ((Pa-Pb)/(CO2a-CO2b))*Wc\n",
    "## Pa- Abolute Pollutant Concentration, Pb- Background Pollutant concentration, Wc- weight carbon fraction in fuel."
   ]
  },
  {
   "cell_type": "code",
   "execution_count": 2,
   "id": "96a70f9a",
   "metadata": {},
   "outputs": [],
   "source": [
    "import pandas as pd\n",
    "import numpy as np"
   ]
  },
  {
   "cell_type": "markdown",
   "id": "b9765e96",
   "metadata": {},
   "source": [
    "### Uploading Dataset"
   ]
  },
  {
   "cell_type": "code",
   "execution_count": 3,
   "id": "86f5c70d",
   "metadata": {},
   "outputs": [],
   "source": [
    "data_PM=pd.read_excel('Dummy_Atmos_PM_Data.xlsx',na_values=['NaN'], parse_dates=['dt_time'])\n",
    "\n",
    "data_gas=pd.read_excel('Dummy_GasSensor_Data.xlsx', sheet_name='Sensor_16', usecols= ['DateTime','CO2'],parse_dates=['DateTime'],na_values=['NaN'])"
   ]
  },
  {
   "cell_type": "markdown",
   "id": "7e8f3130",
   "metadata": {},
   "source": [
    "### Defining Time "
   ]
  },
  {
   "cell_type": "code",
   "execution_count": 4,
   "id": "3bc887bc",
   "metadata": {},
   "outputs": [],
   "source": [
    "data_gas['minute'] = data_gas['DateTime'].dt.minute\n",
    "data_gas['hour']=data_gas['DateTime'].dt.hour\n",
    "data_gas['day']=data_gas['DateTime'].dt.day\n",
    "\n",
    "data_PM['minute'] = data_PM['dt_time'].dt.minute\n",
    "data_PM['hour']=data_PM['dt_time'].dt.hour\n",
    "data_PM['day']=data_PM['dt_time'].dt.day"
   ]
  },
  {
   "cell_type": "markdown",
   "id": "1cfecabf",
   "metadata": {},
   "source": [
    "### Absolute and Background Dataframe- CO2.\n",
    "\n",
    "Background Hourly mean-  Background hourly mean concentration (considering 1 percentile of last 10 seconds).\n",
    "\n",
    "Absolute mean -  Hourly mean concentration."
   ]
  },
  {
   "cell_type": "code",
   "execution_count": 5,
   "id": "81aa016f",
   "metadata": {},
   "outputs": [],
   "source": [
    "total_hours=data_gas.groupby(['hour']).mean().index.get_level_values(0) \n",
    "df_percentile=pd.DataFrame([])\n",
    "dataframe_Gas=pd.DataFrame([])\n",
    "p=0;\n",
    "for x in total_hours: # Available hours\n",
    "    df_percentile=pd.DataFrame([])\n",
    "    for y in range(len(data_gas)):\n",
    "        if x == data_gas['hour'][y]: # Identifying single hour data from data_gas\n",
    "            if y>9: # Starting from 10th datapoint/second\n",
    "                \n",
    "                #-----Forming Percentile DataFrame of CO2------\n",
    "                df_10seconds=pd.DataFrame([data_gas['CO2'][y-10:y]]).T # Forming dataset of 10 seconds\n",
    "                percentile_eachsecond=pd.DataFrame([np.nanpercentile(df_10seconds,1)]) # 1 perecntile value (of single timestep) from 10 second dataset.\n",
    "                df_percentile=pd.concat([percentile_eachsecond,df_percentile]) # Concatenating each percentile value to get perecntile dataframe.\n",
    "    \n",
    "     # ----Calculation of Hourly Percentile  mean of CO2----\n",
    "    each_hour_percentile_mean=pd.DataFrame([df_percentile.mean()],[x]) # Mean of hourly percentile dataframe, x= denotes hour \n",
    "    each_hour_percentile_mean.reset_index(drop=True, inplace=True) # Resetting index to concat horizontally in percentile_dataframe\n",
    "    \n",
    "    # -----Calculation of Absolute Hourly mean of CO2-------\n",
    "    hourly_mean=data_gas.groupby(['day','hour'])['CO2'].mean() # Absolute Hourly mean of CO2.\n",
    "    hour_single_mean=pd.DataFrame([hourly_mean.iloc[p]]) # Mean of single hour starting from first houri.e. p=0; \n",
    "    hour_single_mean.reset_index(drop=True,inplace=True) # Resetting index to concat horizontally in percentile_dataframe.\n",
    "    p=p+1;\n",
    "    \n",
    "    # -----Combining Absolute and Percentile dataframe-------\n",
    "    dataframe_initial=pd.concat([pd.DataFrame([x]),each_hour_percentile_mean,hour_single_mean], axis =1) # x=xth hour\n",
    "    dataframe_Gas=pd.concat([dataframe_initial,dataframe_Gas],ignore_index=True)    \n",
    "    \n",
    "dataframe_Gas.columns=['Hours','Background_CO2','Absolute_CO2'] # defining columns of dataframe."
   ]
  },
  {
   "cell_type": "markdown",
   "id": "4cb5cf68",
   "metadata": {},
   "source": [
    "### Absolute and Background Dataframe- PM2.5, PM1 and PM10."
   ]
  },
  {
   "cell_type": "code",
   "execution_count": 6,
   "id": "08d31fa8",
   "metadata": {},
   "outputs": [
    {
     "name": "stderr",
     "output_type": "stream",
     "text": [
      "C:\\Users\\LENOVO\\AppData\\Local\\Temp/ipykernel_1588/1074433593.py:26: FutureWarning: Indexing with multiple keys (implicitly converted to a tuple of keys) will be deprecated, use a list instead.\n",
      "  hourly_mean_PM=data_PM.groupby(['day','hour'])['pm25raw','pm1cnc','pm10cnc'].mean() # Absolute Mean of all hours.\n"
     ]
    }
   ],
   "source": [
    "total_hours=data_PM.groupby(['hour']).mean().index.get_level_values(0)\n",
    "p=0;\n",
    "df_percentile=pd.DataFrame([])\n",
    "dataframe_PM=pd.DataFrame([])\n",
    "for x in total_hours: # Available hours\n",
    "    df_percentile=pd.DataFrame([])\n",
    "    for y in range(len(data_PM)):\n",
    "        if x == data_PM['hour'][y]: # Identifying single hour data from data_PM\n",
    "            if y>9:\n",
    "                #-----Forming Percentile DataFrame of PM------\n",
    "                df_PM25_10seconds=pd.DataFrame([data_PM['pm25raw'][y-10:y]]).T # PM2.5\n",
    "                percentile_PM25=pd.DataFrame([np.nanpercentile(df_PM25_10seconds,1)])# 1 perecntile of last 10 seconds\n",
    "                df_PM1_10seconds=pd.DataFrame([data_PM['pm1cnc'][y-10:y]]).T  # PM1\n",
    "                percentile_PM1=pd.DataFrame([np.nanpercentile(df_PM1_10seconds,1)])\n",
    "                df_PM10_10seconds=pd.DataFrame([data_PM['pm10cnc'][y-10:y]]).T  # PM10\n",
    "                percentile_PM10=pd.DataFrame([np.nanpercentile(df_PM10_10seconds,1)])\n",
    "                \n",
    "                percentile=pd.concat([percentile_PM25,percentile_PM1,percentile_PM10], axis=1)\n",
    "                df_percentile=pd.concat([percentile,df_percentile])\n",
    "    \n",
    "    # ----Calculation of Hourly Percentile  mean of PM----\n",
    "    hourly_percentile_mean=df_percentile.mean(axis=0).reset_index().T # Percentile hourly mean dataframe.\n",
    "    each_hour_percentile_mean=hourly_percentile_mean[1:]\n",
    "   \n",
    "    # -----Calculation of Absolute Hourly mean of PM-------\n",
    "    hourly_mean_PM=data_PM.groupby(['day','hour'])['pm25raw','pm1cnc','pm10cnc'].mean() # Absolute Mean of all hours.\n",
    "    hourly_mean_PM25=pd.DataFrame([hourly_mean_PM.iloc[p][0]]) # PM2.5\n",
    "    hourly_mean_PM1=pd.DataFrame([hourly_mean_PM.iloc[p][1]]) # PM1\n",
    "    hourly_mean_PM10=pd.DataFrame([hourly_mean_PM.iloc[p][2]]) # PM10\n",
    "    \n",
    "    # -----Combining Absolute and Percentile dataframe-------\n",
    "    dataframe_initial_PM=pd.concat([pd.DataFrame([x]),each_hour_percentile_mean,hourly_mean_PM25,hourly_mean_PM1,hourly_mean_PM10], axis =1)\n",
    "    dataframe_PM=pd.concat([dataframe_initial_PM,dataframe_PM], ignore_index=True)\n",
    "    p=p+1;\n",
    "    \n",
    "dataframe_PM.columns=['Hours','Background_PM2.5','Background_PM1','Background_PM10','Absolute_PM2.5','Absolute_PM1','Absolute_PM10']"
   ]
  },
  {
   "cell_type": "markdown",
   "id": "8cea213f",
   "metadata": {},
   "source": [
    "### Calculation of Emission Factor"
   ]
  },
  {
   "cell_type": "code",
   "execution_count": 7,
   "id": "adf43a34",
   "metadata": {},
   "outputs": [],
   "source": [
    "Final_subset=pd.merge(dataframe_PM,dataframe_Gas)\n",
    "\n",
    "Final_subset['CO2']=Final_subset['Absolute_CO2']-Final_subset['Background_CO2']\n",
    "Final_subset['PM2.5']=Final_subset['Absolute_PM2.5']-Final_subset['Background_PM2.5']\n",
    "Final_subset['PM1']=Final_subset['Absolute_PM1']-Final_subset['Background_PM1']\n",
    "Final_subset['PM10']=Final_subset['Absolute_PM10']-Final_subset['Background_PM10']\n",
    "\n",
    "# Estimating Ratio of PM against CO2\n",
    "Final_subset['Ratio_PM2.5']=Final_subset['PM2.5']/Final_subset['CO2']\n",
    "Final_subset['Ratio_PM1']=Final_subset['PM1']/Final_subset['CO2']\n",
    "Final_subset['Ratio_PM10']=Final_subset['PM10']/Final_subset['CO2']\n",
    "\n",
    "# Multiplying with carbon fraction\n",
    "Final_subset['Emmission Factor_PM2.5']=0.86*Final_subset['Ratio_PM2.5'] # EF of PM2.5\n",
    "Final_subset['Emmission Factor_PM1']=0.86*Final_subset['Ratio_PM1']   # EF of PM1\n",
    "Final_subset['Emmission Factor_PM10']=0.86*Final_subset['Ratio_PM10']  # EF of PM10\n",
    "\n",
    "Final_subset.to_excel('Dummy_EF.xlsx', index=True)"
   ]
  },
  {
   "cell_type": "code",
   "execution_count": null,
   "id": "d1cf4e92",
   "metadata": {},
   "outputs": [],
   "source": []
  },
  {
   "cell_type": "code",
   "execution_count": null,
   "id": "b0337a57",
   "metadata": {},
   "outputs": [],
   "source": []
  },
  {
   "cell_type": "code",
   "execution_count": null,
   "id": "83792029",
   "metadata": {},
   "outputs": [],
   "source": []
  },
  {
   "cell_type": "code",
   "execution_count": null,
   "id": "74f39f29",
   "metadata": {},
   "outputs": [],
   "source": []
  },
  {
   "cell_type": "code",
   "execution_count": null,
   "id": "593ebb87",
   "metadata": {},
   "outputs": [],
   "source": []
  },
  {
   "cell_type": "code",
   "execution_count": null,
   "id": "3db0dfc2",
   "metadata": {},
   "outputs": [],
   "source": []
  }
 ],
 "metadata": {
  "kernelspec": {
   "display_name": "Python 3 (ipykernel)",
   "language": "python",
   "name": "python3"
  },
  "language_info": {
   "codemirror_mode": {
    "name": "ipython",
    "version": 3
   },
   "file_extension": ".py",
   "mimetype": "text/x-python",
   "name": "python",
   "nbconvert_exporter": "python",
   "pygments_lexer": "ipython3",
   "version": "3.9.7"
  },
  "varInspector": {
   "cols": {
    "lenName": 16,
    "lenType": 16,
    "lenVar": 40
   },
   "kernels_config": {
    "python": {
     "delete_cmd_postfix": "",
     "delete_cmd_prefix": "del ",
     "library": "var_list.py",
     "varRefreshCmd": "print(var_dic_list())"
    },
    "r": {
     "delete_cmd_postfix": ") ",
     "delete_cmd_prefix": "rm(",
     "library": "var_list.r",
     "varRefreshCmd": "cat(var_dic_list()) "
    }
   },
   "types_to_exclude": [
    "module",
    "function",
    "builtin_function_or_method",
    "instance",
    "_Feature"
   ],
   "window_display": false
  }
 },
 "nbformat": 4,
 "nbformat_minor": 5
}
